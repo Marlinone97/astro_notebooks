{
 "cells": [
  {
   "cell_type": "markdown",
   "metadata": {},
   "source": [
    "## Cluster Usage Report\n",
    "\n",
    "This notebook presents an automated analysis of user-level resource consumption on the computing cluster over the past months. The goal is to provide a clear and structured overview of CPU usage trends across users and time periods, enabling better resource planning and transparency.\n",
    "\n",
    "**Acknowledgments:**  \n",
    "I would like to sincerely thank my former colleagues **Tobias Esswein** (main developer of these scripts) and **Peter Mlkvik** for their valuable support, input and mentoring during the development of this reporting workflow.\n"
   ]
  },
  {
   "cell_type": "code",
   "execution_count": null,
   "metadata": {
    "ExecuteTime": {
     "end_time": "2019-12-12T13:11:17.837097Z",
     "start_time": "2019-12-12T13:11:14.275199Z"
    },
    "tags": []
   },
   "outputs": [],
   "source": [
    "import numpy as np\n",
    "import os\n",
    "import glob\n",
    "import pandas as pd\n",
    "import matplotlib as mpl\n",
    "import matplotlib.pyplot as plt\n",
    "import seaborn as sns\n",
    "import datetime as dt\n",
    "import dateutil as du\n",
    "import sqlite3  # for database storage\n",
    "import plotly.express as px  # for interactive plots\n",
    "\n",
    "%matplotlib inline  \n",
    "%config InlineBackend.figure_format = 'png'"
   ]
  },
  {
   "cell_type": "code",
   "execution_count": null,
   "metadata": {
    "tags": []
   },
   "outputs": [],
   "source": [
    "# customize panda options \n",
    "\n",
    "def start():\n",
    "    options = {\n",
    "        'display': {\n",
    "            'max_columns': None,\n",
    "            'max_colwidth': 25,\n",
    "            'expand_frame_repr': False,  # Don't wrap to multiple pages\n",
    "            'max_rows': 14,\n",
    "            'max_seq_items': 50,         # Max length of printed sequence\n",
    "            'precision': 6,\n",
    "            'show_dimensions': False\n",
    "        },\n",
    "        'mode': {\n",
    "            'chained_assignment': None   # Controls SettingWithCopyWarning\n",
    "        }\n",
    "    }\n",
    "\n",
    "    for category, option in options.items():\n",
    "        for op, value in option.items():\n",
    "            pd.set_option(f'{category}.{op}', value)  # Python 3.6+\n",
    "\n",
    "\n",
    "start()\n",
    "del start  # Clean up namespace in the interpreter"
   ]
  },
  {
   "cell_type": "code",
   "execution_count": null,
   "metadata": {
    "ExecuteTime": {
     "end_time": "2019-12-12T13:11:17.843116Z",
     "start_time": "2019-12-12T13:11:17.839635Z"
    },
    "tags": []
   },
   "outputs": [],
   "source": [
    "current = '2023-12'\n",
    "\n",
    "new_report_months = 14\n",
    "\n",
    "currentMonth = du.parser.parse(current)\n",
    "pastDates = [currentMonth + du.relativedelta.relativedelta(months=-i) for i in range(24)]\n",
    "display(pastDates[1:new_report_months])\n",
    "\n",
    "past1 = currentMonth + du.relativedelta.relativedelta(months=-4)\n",
    "past2 = currentMonth + du.relativedelta.relativedelta(months=-8)\n",
    "\n",
    "nodes = '''\n",
    "  10 regular nodes (24 cores, 64 GB each) valid until 2021-08-31 3\n",
    "   7 high-performance nodes (36 cores, 192 GB each) valid until 2022-06-30 3\n",
    "   3 high-performance nodes (36 cores, 192 GB each) valid until 2023-01-31 3\n",
    "   9 new standard nodes (24 cores, 96 GB each) valid until 2023-01-31 3\n",
    "   2 big-memory high-throughput nodes (128 cores, 512 GB each) valid until 2024-04-30 3\n",
    "   2 big-memory high-throughput nodes (128 cores, 512 GB each) valid until 2024-07-31 3\n",
    "   5 big-memory high-throughput nodes (128 cores, 512 GB each) valid until 2024-10-31 0\n",
    "   3 medium-memory high-throughput nodes (128 cores, 256 GB each) valid until 2027-01-31 0\n",
    "'''\n",
    "\n",
    "nodes = nodes.split('\\n')[1:-1]\n",
    "\n",
    "def getCores(nodes):\n",
    "    result = []\n",
    "    for line in nodes:\n",
    "        \n",
    "        cores = int(line.split()[0]) * int(line.split('(')[1].split(' ')[0])\n",
    "        untilDate = du.parser.parse(line.split()[-2])\n",
    "        bonusMonths = int(line.split()[-1])\n",
    "        fromDate = untilDate - du.relativedelta.relativedelta(years=4,months=bonusMonths,days=-2)\n",
    "        fromDate += du.relativedelta.relativedelta(day=1)\n",
    "        result.append([cores,fromDate,untilDate])\n",
    "    \n",
    "    return result\n",
    "\n",
    "cores = getCores(nodes)\n",
    "\n",
    "startMonth = currentMonth\n",
    "\n",
    "num_cores = np.zeros([24])\n",
    "\n",
    "for m in range(24):\n",
    "    currentMonth += du.relativedelta.relativedelta(day=31)  \n",
    "    for core in cores:\n",
    "        if core[1] <= currentMonth and core[2] >= currentMonth:\n",
    "            num_cores[m] += core[0]\n",
    "    currentMonth += du.relativedelta.relativedelta(months=-1)  \n",
    "\n",
    "num_cores = np.flipud(num_cores)\n",
    "\n",
    "display(startMonth)\n",
    "display(num_cores)"
   ]
  },
  {
   "cell_type": "code",
   "execution_count": null,
   "metadata": {
    "tags": []
   },
   "outputs": [],
   "source": [
    "months = [startMonth + du.relativedelta.relativedelta(months=-i) for i in reversed(range(24))]\n",
    "df_capacity = pd.DataFrame({'Month': [m.strftime('%Y-%m') for m in months],\n",
    "                            'CoresAvailable': num_cores})\n",
    "\n",
    "# Connect & store\n",
    "conn = sqlite3.connect('cluster_usage.db')\n",
    "df_capacity.to_sql('capacity', conn, if_exists='replace', index=False)\n",
    "conn.close()\n",
    "\n",
    "display(df_capacity)"
   ]
  },
  {
   "cell_type": "code",
   "execution_count": null,
   "metadata": {
    "ExecuteTime": {
     "end_time": "2019-12-12T13:11:17.873990Z",
     "start_time": "2019-12-12T13:11:17.845788Z"
    },
    "tags": []
   },
   "outputs": [],
   "source": [
    "## cost per CPU hour\n",
    "cph = 12000/364/365/24\n",
    "## cost per CPU month\n",
    "cpm = 12000/36/4/12\n",
    "\n",
    "## electricity per coremonth (kWh)\n",
    "epcm = 10 * (24*30) / 1000 # Watt * hours / 1000\n",
    "\n",
    "## cost per kWh\n",
    "cpkw = 0.28  # CHF / kWh\n",
    "\n",
    "## CO2 per kWh\n",
    "co2pkw = 28  # g / kWh\n",
    "\n",
    "## electricity cost per coremonth\n",
    "ecpcm = epcm * cpkw\n",
    "\n",
    "## CO2 emissions per coremonth\n",
    "co2pcm = epcm * co2pkw\n",
    "\n",
    "print('{:.0f} CO2 / coremonth'.format(round(co2pcm/10)*10))"
   ]
  },
  {
   "cell_type": "code",
   "execution_count": null,
   "metadata": {
    "ExecuteTime": {
     "end_time": "2019-12-12T13:11:17.901495Z",
     "start_time": "2019-12-12T13:11:17.876689Z"
    },
    "tags": []
   },
   "outputs": [],
   "source": [
    "sns.set()\n",
    "cmap = sns.color_palette(n_colors=20)\n",
    "# cmap = sns.diverging_palette(250, 150, s=75, l=40, n=10, center=\"light\")\n",
    "new_cmap = cmap\n",
    "for k,el in enumerate(cmap):\n",
    "    if k>=10:\n",
    "        new_cmap[k] = np.array(el)*0.4+0.6\n",
    "    else:\n",
    "        new_cmap[k] = np.array(el)"
   ]
  },
  {
   "cell_type": "code",
   "execution_count": null,
   "metadata": {
    "ExecuteTime": {
     "end_time": "2019-12-12T13:11:18.691844Z",
     "start_time": "2019-12-12T13:11:18.681939Z"
    },
    "tags": []
   },
   "outputs": [],
   "source": [
    "def create_fig(dpi):\n",
    "    ## set properties for figure\n",
    "    sns.set(style=\"white\")\n",
    "    font_size = 12\n",
    "    mpl.rcParams['ytick.labelsize'] = font_size\n",
    "    mpl.rcParams['xtick.labelsize'] = font_size\n",
    "    mpl.rcParams['axes.labelsize'] = font_size\n",
    "    mpl.rcParams['font.size'] = font_size\n",
    "    mpl.rcParams['axes.titlesize'] = font_size\n",
    "    mpl.rcParams['legend.title_fontsize'] = font_size * 0.8   \n",
    "    mpl.rcParams['legend.fontsize'] = font_size * 0.7   \n",
    "    ## create figure with golden ratio width/height\n",
    "    figure_width = 16   # cm\n",
    "    fig = plt.figure(figsize=(21.0/2.54, 29.7/2.54), dpi = dpi)\n",
    "    ## add one subplot\n",
    "    return fig"
   ]
  },
  {
   "cell_type": "code",
   "execution_count": null,
   "metadata": {
    "ExecuteTime": {
     "end_time": "2019-12-12T13:11:19.734383Z",
     "start_time": "2019-12-12T13:11:19.602287Z"
    },
    "tags": []
   },
   "outputs": [],
   "source": [
    "df = pd.read_fwf('./hpc_accounting/'+pastDates[0].strftime('%Y-%m')+'.txt',\n",
    "                      colspecs=[(0,40),(49,57),],header=0,dtype={0: str, 1: np.float64})\n",
    "df.set_index('User',inplace=True)\n",
    "df.rename(columns = {'Cores':pastDates[0].strftime('%Y-%m')}, inplace = True)\n",
    "df.dropna(inplace=True)\n",
    "\n",
    "\n",
    "# import for reports from 2022-09 to now\n",
    "for pastDate in pastDates[1:new_report_months]:\n",
    "    # print(f'new {pastDate}')\n",
    "    df1 = pd.read_fwf('./hpc_accounting/'+pastDate.strftime('%Y-%m')+'.txt',\n",
    "                      colspecs=[(0,40),(49,57),],header=0,dtype={0: str, 1: np.float64})\n",
    "    df1.set_index('User',inplace=True)\n",
    "    df1.rename(columns = {'Cores':pastDate.strftime('%Y-%m')}, inplace = True)\n",
    "    df1.dropna(inplace=True)\n",
    "#     display(df1)\n",
    "    df = df.join(df1, how='outer')\n",
    "    \n",
    "del df1\n",
    "\n",
    "## import for reports from xxxx-xx to 2022-09\n",
    "for pastDate in pastDates[new_report_months:]:\n",
    "    # print(f'old {pastDate}')\n",
    "    df1 = pd.read_fwf('./hpc_accounting/'+pastDate.strftime('%Y-%m')+'.txt',\n",
    "                      colspecs=[(0,40),(49,57),],header=0,dtype={0: str, 1: np.float64})\n",
    "    df1.set_index('User',inplace=True)\n",
    "    df1.rename(columns = {'Cores':pastDate.strftime('%Y-%m')}, inplace = True)\n",
    "    df1.dropna(inplace=True)\n",
    "#     display(df1)\n",
    "    df = df.join(df1, how='outer')\n",
    "\n",
    "## flip dataframe left to right\n",
    "columns = df.columns.tolist()\n",
    "columns = columns[::-1]\n",
    "df = df[columns]\n",
    "# totals = df.loc['TOTAL']\n",
    "df.drop('TOTAL',inplace=True)\n",
    "\n",
    "## calculate mean usage\n",
    "mean_usage_3 = df.sum().rolling(3).mean()\n",
    "# display(mean_usage_3)\n",
    "mean_usage_12 = df.sum().rolling(12).mean()\n",
    "\n",
    "## drop every row/name with less than 0.1 nodehours in selected period\n",
    "df = df.iloc[:,-12:]\n",
    "df['total'] = df.T.sum()\n",
    "df.fillna(0,inplace=True)\n",
    "df = df[df.total > 0.1]\n",
    "\n",
    "display(df)\n",
    "\n",
    "#LUCA: I think these are corehours and not coremonths\n",
    "coremonths_total = df.loc[:,'total'].sum()\n",
    "coremonths_lastmonth = df.iloc[:,-2].sum()\n",
    "display(coremonths_total)"
   ]
  },
  {
   "cell_type": "code",
   "execution_count": null,
   "metadata": {
    "tags": []
   },
   "outputs": [],
   "source": [
    "all_usage = []\n",
    "for i, pastDate in enumerate(pastDates):\n",
    "    \n",
    "    fname = f'./hpc_accounting/{pastDate.strftime(\"%Y-%m\")}.txt'\n",
    "    colspecs = [(0, 40), (49, 57)]\n",
    "\n",
    "    df1 = pd.read_fwf(fname,\n",
    "                      colspecs=colspecs,\n",
    "                      header=0,\n",
    "                      names=['User', 'Cores'],\n",
    "                      dtype={'User': str, 'Cores': np.float64})\n",
    "    df1.dropna(inplace=True)\n",
    "    df1 = df1[~df1['User'].str.contains('TOTAL')]\n",
    "    df1['Month'] = pastDate.strftime('%Y-%m')\n",
    "    all_usage.append(df1)\n"
   ]
  },
  {
   "cell_type": "code",
   "execution_count": null,
   "metadata": {
    "tags": []
   },
   "outputs": [],
   "source": [
    "df_usage = pd.concat(all_usage, ignore_index=True)\n",
    "\n",
    "# Clean possible extra whitespace in usernames\n",
    "df_usage['User'] = df_usage['User'].str.strip()"
   ]
  },
  {
   "cell_type": "code",
   "execution_count": null,
   "metadata": {
    "tags": []
   },
   "outputs": [],
   "source": [
    "conn = sqlite3.connect('cluster_usage.db')\n",
    "df_usage.to_sql('usage', conn, if_exists='replace', index=False)\n",
    "conn.close()\n",
    "\n",
    "display(df_usage.head())\n"
   ]
  },
  {
   "cell_type": "code",
   "execution_count": null,
   "metadata": {
    "tags": []
   },
   "outputs": [],
   "source": [
    "conn = sqlite3.connect('cluster_usage.db')\n",
    "\n",
    "df_monthly = pd.read_sql(\"\"\"\n",
    "SELECT Month, SUM(Cores) as TotalCores\n",
    "FROM usage\n",
    "GROUP BY Month\n",
    "ORDER BY Month\n",
    "\"\"\", conn)\n",
    "\n",
    "conn.close()\n",
    "\n",
    "df_monthly['Mean3'] = df_monthly['TotalCores'].rolling(3).mean()\n",
    "df_monthly['Mean12'] = df_monthly['TotalCores'].rolling(12).mean()\n",
    "\n",
    "display(df_monthly)\n"
   ]
  },
  {
   "cell_type": "code",
   "execution_count": null,
   "metadata": {
    "tags": []
   },
   "outputs": [],
   "source": [
    "conn = sqlite3.connect('cluster_usage.db')\n",
    "\n",
    "df_user_total = pd.read_sql(\"\"\"\n",
    "SELECT User, SUM(Cores) as TotalCores\n",
    "FROM usage\n",
    "WHERE Month >= DATE('now', '-12 months')\n",
    "GROUP BY User\n",
    "HAVING TotalCores > 0.1\n",
    "\"\"\", conn)\n",
    "\n",
    "conn.close()\n",
    "\n",
    "display(df_user_total)\n"
   ]
  },
  {
   "cell_type": "code",
   "execution_count": null,
   "metadata": {
    "ExecuteTime": {
     "end_time": "2019-12-12T13:11:21.295604Z",
     "start_time": "2019-12-12T13:11:21.243564Z"
    },
    "tags": []
   },
   "outputs": [],
   "source": [
    "# display(df.iloc[:,-1])\n",
    "weights = [50,30,20,0,0,0]\n",
    "df['sort'] = (\n",
    "    df.iloc[:,-6]/max(df.iloc[:,-6])*weights[5]/sum(weights) +\n",
    "    df.iloc[:,-5]/max(df.iloc[:,-5])*weights[4]/sum(weights) +\n",
    "    df.iloc[:,-4]/max(df.iloc[:,-4])*weights[3]/sum(weights) +\n",
    "    df.iloc[:,-3]/max(df.iloc[:,-3])*weights[2]/sum(weights) +\n",
    "    df.iloc[:,-2]/max(df.iloc[:,-2])*weights[1]/sum(weights) +\n",
    "    df.iloc[:,-1]/max(df.iloc[:,-1])*weights[0]/sum(weights)  \n",
    ")\n",
    "df.sort_values(by='sort',ascending=False, inplace=True)\n",
    "\n",
    "# LUCA: incredibly nice sorting procedure..!\n",
    "display(df.head(5))\n",
    "df.drop_duplicates(inplace=True)\n",
    "df.drop('sort',axis=1,inplace=True)\n",
    "display(df)"
   ]
  },
  {
   "cell_type": "code",
   "execution_count": null,
   "metadata": {},
   "outputs": [],
   "source": [
    "user_mean_one_year = np.average(df['total'].values)\n",
    "user_sigma_one_year = np.std(df['total'].values)\n",
    "print(user_mean_one_year)\n",
    "print(user_sigma_one_year)"
   ]
  },
  {
   "cell_type": "code",
   "execution_count": null,
   "metadata": {},
   "outputs": [],
   "source": [
    "CHF_per_CPU_month = 4.10"
   ]
  },
  {
   "cell_type": "code",
   "execution_count": null,
   "metadata": {},
   "outputs": [],
   "source": [
    "cost_one_year = user_mean_one_year * CHF_per_CPU_month\n",
    "cost_one_year"
   ]
  },
  {
   "cell_type": "code",
   "execution_count": null,
   "metadata": {
    "ExecuteTime": {
     "end_time": "2019-12-12T13:12:49.745863Z",
     "start_time": "2019-12-12T13:12:49.109646Z"
    },
    "tags": []
   },
   "outputs": [],
   "source": [
    "fig = create_fig(120)\n",
    "\n",
    "gs1 = mpl.gridspec.GridSpec(2,2)\n",
    "gs1.update(wspace=0.2, hspace=0.0) # set the spacing between axes.\n",
    "# ax1 = plt.subplot(gs1[0, :-1])\n",
    "# ax2 = plt.subplot(gs1[0, -1:])\n",
    "ax1 = plt.subplot(gs1[:1,:])\n",
    "ax2 = plt.subplot(gs1[1:,:1])\n",
    "ax3 = plt.subplot(gs1[1:, 1:])\n",
    "\n",
    "# display(df.T)\n",
    "\n",
    "## combine small users to others\n",
    "dfplot = df.iloc[:17]\n",
    "others = df.iloc[17:].sum()\n",
    "others.name = 'Others'\n",
    "dfplot = pd.concat([dfplot, others], ignore_index=True)\n",
    "\n",
    "\n",
    "## uncomment for stacked bar plot\n",
    "# dfplot.T.iloc[:-1,:].plot.bar(ax=ax1,color=cmap,legend=False,alpha=0.9, stacked=True, width=.618)\n",
    "\n",
    "## uncomment for stacked area plot\n",
    "dfplot.T.iloc[:-1,:].plot.area(ax=ax1,color=cmap,legend=False,alpha=0.8,)\n",
    "\n",
    "ax1.set_xlim([0,11])\n",
    "\n",
    "# LUCA: the number of cores in the various node typologies etc... are needed to plot the (varying) quota..!\n",
    "ax1.plot(np.array(dfplot.T.iloc[:-1,:].index)[0:-1],num_cores[-12:],color='k',alpha=0.8,linestyle='-')\n",
    "ax1.plot(np.array(dfplot.T.iloc[:-1,:].index)[0:-1],mean_usage_3[-12:].values,color='w',alpha=0.8,linestyle='-')\n",
    "ax1.plot(np.array(dfplot.T.iloc[:-1,:].index)[0:-1],mean_usage_3[-12:].values,color='k',alpha=0.8,linestyle='--')\n",
    "ax1.plot(np.array(dfplot.T.iloc[:-1,:].index)[0:-1],mean_usage_12[-12:].values,color='w',alpha=0.8,linestyle='-')\n",
    "ax1.plot(np.array(dfplot.T.iloc[:-1,:].index)[0:-1],mean_usage_12[-12:].values,color='k',alpha=0.8,linestyle=':')\n",
    "ax1.set_title('CLUSTER usage ({})\\n'.format(dfplot.columns[-2]), fontdict={'fontsize':24})\n",
    "ax1.set_ylabel('# cores')\n",
    "ax1.set_xticks(np.arange(0,12,1))\n",
    "ax1.set_xticklabels(dfplot.T.index[:12], rotation = 45)\n",
    "# print(dfplot.T.index)\n",
    "ax1.grid()\n",
    "\n",
    "## total usage pie plot\n",
    "df_pie_tot = dfplot.iloc[:,-1]\n",
    "df_pie_tot.plot.pie(ax=ax2, labels=[''.format(x) for x in df_pie_tot.values],colors=cmap, startangle=90)#, autopct='%2.0f')\n",
    "\n",
    "## last month usage pie plot\n",
    "df_pie = dfplot.iloc[:,-2]\n",
    "# df_pie = df_pie.append(pd.Series(data=dfplot.iloc[9:,-2].sum(), index=['Other']))\n",
    "# display(df_pie)\n",
    "df_pie.plot.pie(ax=ax3, labels=[''.format(x) for x in df_pie.values], colors=cmap, startangle=90, radius=1)#, autopct='%2.0f')\n",
    "\n",
    "#draw circle\n",
    "centre_circle = plt.Circle((0,0),0.75,fc='white')\n",
    "ax2.add_artist(centre_circle)\n",
    "ax2.axis('equal')\n",
    "centre_circle = plt.Circle((0,0),0.75,fc='white')\n",
    "ax3.add_artist(centre_circle)\n",
    "ax3.axis('equal')\n",
    "\n",
    "ax2.legend(df_pie.index, bbox_to_anchor=(1.06,-0.06),ncol=3,loc='center', fontsize=11)\n",
    "ax2.set_ylabel('')\n",
    "ax2.text(0,0,'past year', horizontalalignment='center',verticalalignment='center', fontsize=14)\n",
    "\n",
    "\n",
    "ax3.set_ylabel('')\n",
    "ax3.text(0,0,'past month', horizontalalignment='center',verticalalignment='center', fontsize=14)\n",
    "\n",
    "ax1.text(dfplot.T.iloc[:-1,:].index[-1],mean_usage_3[-1],' 3m.', horizontalalignment='left',verticalalignment='center', fontsize=14)\n",
    "ax1.text(dfplot.T.iloc[:-1,:].index[-1],num_cores[-1],' quota', horizontalalignment='left',verticalalignment='center', fontsize=14)\n",
    "ax1.text(dfplot.T.iloc[:-1,:].index[-1],mean_usage_12[-1],' 12m.', horizontalalignment='left',verticalalignment='center', fontsize=14)\n",
    "\n",
    "ax1.set_ylim(0,5000)\n",
    "\n",
    "plt.savefig('./hpc_accounting/cluster_'+current+'.pdf', dpi=300)#, bbox_inches='tight')\n",
    "plt.savefig('./hpc_accounting/cluster_'+current+'.png', dpi=300)#, bbox_inches='tight')"
   ]
  },
  {
   "cell_type": "code",
   "execution_count": null,
   "metadata": {},
   "outputs": [],
   "source": []
  }
 ],
 "metadata": {
  "kernelspec": {
   "display_name": "Python 3 (ipykernel)",
   "language": "python",
   "name": "python3"
  },
  "language_info": {
   "codemirror_mode": {
    "name": "ipython",
    "version": 3
   },
   "file_extension": ".py",
   "mimetype": "text/x-python",
   "name": "python",
   "nbconvert_exporter": "python",
   "pygments_lexer": "ipython3",
   "version": "3.8.10"
  }
 },
 "nbformat": 4,
 "nbformat_minor": 4
}
